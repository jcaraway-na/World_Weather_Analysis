{
 "cells": [
  {
   "cell_type": "code",
   "execution_count": 1,
   "id": "0ed1cfbb",
   "metadata": {},
   "outputs": [],
   "source": [
    "#Import the random module.\n",
    "import numpy as np\n",
    "import random\n",
    "import timeit"
   ]
  },
  {
   "cell_type": "code",
   "execution_count": 2,
   "id": "83252f18",
   "metadata": {},
   "outputs": [
    {
     "data": {
      "text/plain": [
       "-63"
      ]
     },
     "execution_count": 2,
     "metadata": {},
     "output_type": "execute_result"
    }
   ],
   "source": [
    "random.randint(-90, 90)"
   ]
  },
  {
   "cell_type": "code",
   "execution_count": 3,
   "id": "2e43d0ef",
   "metadata": {},
   "outputs": [
    {
     "data": {
      "text/plain": [
       "0.4624242866534327"
      ]
     },
     "execution_count": 3,
     "metadata": {},
     "output_type": "execute_result"
    }
   ],
   "source": [
    "random.random()"
   ]
  },
  {
   "cell_type": "code",
   "execution_count": 4,
   "id": "1f977b61",
   "metadata": {},
   "outputs": [
    {
     "data": {
      "text/plain": [
       "-39.937279886290085"
      ]
     },
     "execution_count": 4,
     "metadata": {},
     "output_type": "execute_result"
    }
   ],
   "source": [
    "random_number = random.randint(-90,89)+random.random()\n",
    "random_number"
   ]
  },
  {
   "cell_type": "code",
   "execution_count": 5,
   "id": "d85c766f",
   "metadata": {},
   "outputs": [
    {
     "data": {
      "text/plain": [
       "[-18.69797181766081,\n",
       " -61.457816465761525,\n",
       " 76.43029497060269,\n",
       " 24.0492277962781,\n",
       " -39.70278176793309,\n",
       " 26.71316680028414,\n",
       " -78.14241861274353,\n",
       " -72.28803702671294,\n",
       " -44.624947765550196,\n",
       " -81.11585053963648]"
      ]
     },
     "execution_count": 5,
     "metadata": {},
     "output_type": "execute_result"
    }
   ],
   "source": [
    "# Assign the variable x to 1\n",
    "x = 1\n",
    "\n",
    "#initialize an empty list to latitudes.\n",
    "latitudes = []\n",
    "\n",
    "# while loop to generate randome latitude and add it to list.\n",
    "while x < 11:\n",
    "    random_lat = random.randint(-90, 89) + random.random()\n",
    "    latitudes.append(random_lat)\n",
    "    x += 1\n",
    "    \n",
    "latitudes"
   ]
  },
  {
   "cell_type": "code",
   "execution_count": 6,
   "id": "df37f4a2",
   "metadata": {},
   "outputs": [
    {
     "data": {
      "text/plain": [
       "array([-63.4822841 , -42.15905058,  84.89572113, -11.95545875,\n",
       "        25.78546312, -43.05750111,  -8.32920936,   9.25032407,\n",
       "       -27.20014573,   7.63993926, -63.27518506,  89.17767992,\n",
       "        62.37802556,  52.68876188, -30.51472088,  12.56904176,\n",
       "        43.41903348, -54.89991114, -10.45856805,  46.38852173,\n",
       "       -88.80605665,  65.39758132,  31.43772526, -33.23683728,\n",
       "        18.45860281, -77.48819007,  57.34143115,  26.47230049,\n",
       "        35.29527776, -19.66695862, -14.42343037,  -3.73910225,\n",
       "        47.61893095,  62.67551745, -10.25731591, -57.32374662,\n",
       "        32.3361054 ,  31.78184005, -86.30898073, -44.88184407,\n",
       "       -33.77617461,  11.47624484, -77.32081865,  48.11595829,\n",
       "        80.9173989 , -31.33128078,  10.109342  ,  56.37943342,\n",
       "         6.68922144, -20.25607308])"
      ]
     },
     "execution_count": 6,
     "metadata": {},
     "output_type": "execute_result"
    }
   ],
   "source": [
    "# To generate more than one floating-point decimal number between -90 and 90, we can add the size parameter\n",
    "\n",
    "np.random.uniform(-90.000,90.000,size=50)"
   ]
  },
  {
   "cell_type": "code",
   "execution_count": 7,
   "id": "c2b148e5",
   "metadata": {},
   "outputs": [
    {
     "name": "stdout",
     "output_type": "stream",
     "text": [
      "10.1 µs ± 33 ns per loop (mean ± std. dev. of 7 runs, 100,000 loops each)\n"
     ]
    }
   ],
   "source": [
    "# Next, add the %timeit magic command before the np.random.uniform(-90.000, 90.000, size=1500) in a new cell. \n",
    "\n",
    "%timeit np.random.uniform(-90.000, 90.000, size=1500)"
   ]
  },
  {
   "cell_type": "code",
   "execution_count": 8,
   "id": "1c640592",
   "metadata": {},
   "outputs": [
    {
     "name": "stdout",
     "output_type": "stream",
     "text": [
      "1.03 ms ± 8.95 µs per loop (mean ± std. dev. of 7 runs, 1,000 loops each)\n"
     ]
    }
   ],
   "source": [
    "# Now, let's run the while loop as a function. Copy the following code in a new cell and run the cell.\n",
    "\n",
    "def latitudes(size):\n",
    "    latitudes = []\n",
    "    x = 0\n",
    "    while x < (size):\n",
    "        random_lat = random.randint(-90, 90) + random.random()\n",
    "        latitudes.append(random_lat)\n",
    "        x += 1\n",
    "    return latitudes\n",
    "\n",
    "# Call the function with 1500.\n",
    "%timeit latitudes(1500)"
   ]
  },
  {
   "cell_type": "code",
   "execution_count": null,
   "id": "9ef80528",
   "metadata": {},
   "outputs": [],
   "source": []
  }
 ],
 "metadata": {
  "kernelspec": {
   "display_name": "PythonData",
   "language": "python",
   "name": "pythondata"
  },
  "language_info": {
   "codemirror_mode": {
    "name": "ipython",
    "version": 3
   },
   "file_extension": ".py",
   "mimetype": "text/x-python",
   "name": "python",
   "nbconvert_exporter": "python",
   "pygments_lexer": "ipython3",
   "version": "3.9.12"
  }
 },
 "nbformat": 4,
 "nbformat_minor": 5
}
