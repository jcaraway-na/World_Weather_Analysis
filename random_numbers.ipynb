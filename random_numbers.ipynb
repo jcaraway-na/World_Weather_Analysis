{
 "cells": [
  {
   "cell_type": "code",
   "execution_count": 10,
   "id": "0ed1cfbb",
   "metadata": {},
   "outputs": [],
   "source": [
    "#Import the random module.\n",
    "import numpy as np\n",
    "import random\n",
    "import timeit"
   ]
  },
  {
   "cell_type": "code",
   "execution_count": 2,
   "id": "83252f18",
   "metadata": {},
   "outputs": [
    {
     "data": {
      "text/plain": [
       "-31"
      ]
     },
     "execution_count": 2,
     "metadata": {},
     "output_type": "execute_result"
    }
   ],
   "source": [
    "random.randint(-90, 90)"
   ]
  },
  {
   "cell_type": "code",
   "execution_count": 3,
   "id": "2e43d0ef",
   "metadata": {},
   "outputs": [
    {
     "data": {
      "text/plain": [
       "0.6829229484999233"
      ]
     },
     "execution_count": 3,
     "metadata": {},
     "output_type": "execute_result"
    }
   ],
   "source": [
    "random.random()"
   ]
  },
  {
   "cell_type": "code",
   "execution_count": 4,
   "id": "1f977b61",
   "metadata": {},
   "outputs": [
    {
     "data": {
      "text/plain": [
       "10.670002610825668"
      ]
     },
     "execution_count": 4,
     "metadata": {},
     "output_type": "execute_result"
    }
   ],
   "source": [
    "random_number = random.randint(-90,89)+random.random()\n",
    "random_number"
   ]
  },
  {
   "cell_type": "code",
   "execution_count": 7,
   "id": "d85c766f",
   "metadata": {},
   "outputs": [
    {
     "data": {
      "text/plain": [
       "[-24.144530009366886,\n",
       " 51.84446449712864,\n",
       " -57.87859040066073,\n",
       " 30.885399763499294,\n",
       " -23.972339675206268,\n",
       " 34.16415259188904,\n",
       " 18.445042186034197,\n",
       " 4.132232215372229,\n",
       " 71.80555462783005,\n",
       " -36.857148684778885]"
      ]
     },
     "execution_count": 7,
     "metadata": {},
     "output_type": "execute_result"
    }
   ],
   "source": [
    "# Assign the variable x to 1\n",
    "x = 1\n",
    "\n",
    "#initialize an empty list to latitudes.\n",
    "latitudes = []\n",
    "\n",
    "# while loop to generate randome latitude and add it to list.\n",
    "while x < 11:\n",
    "    random_lat = random.randint(-90, 89) + random.random()\n",
    "    latitudes.append(random_lat)\n",
    "    x += 1\n",
    "    \n",
    "latitudes"
   ]
  },
  {
   "cell_type": "code",
   "execution_count": 9,
   "id": "df37f4a2",
   "metadata": {},
   "outputs": [
    {
     "data": {
      "text/plain": [
       "array([  7.07312535, -63.03473288, -67.94865098, -40.45466752,\n",
       "        -3.36538862,  -4.86057526,  25.40379392, -44.71449592,\n",
       "        13.53406148, -13.79702775, -37.60448529,  41.41828369,\n",
       "        76.86116209,  -0.10548842, -12.23004046,  82.14289069,\n",
       "        59.02976076, -30.56864893, -73.54733933,  -3.564889  ,\n",
       "       -39.37698049,  47.25969867, -22.32164718,  27.53763963,\n",
       "        10.89915478, -77.39998077,  10.95639744, -73.19034992,\n",
       "        -8.18075726,   6.07228853, -36.52595847,  56.2407245 ,\n",
       "       -15.61854388, -16.4681496 ,  -6.90661226,  78.17184522,\n",
       "        27.24956266,  89.3785846 , -70.25319642, -33.25659083,\n",
       "        55.83162121,  29.61820658, -11.61710783,  42.9530914 ,\n",
       "        26.15529333, -33.83692005,  37.11512066,  55.48900729,\n",
       "        10.42262623,   4.04899928])"
      ]
     },
     "execution_count": 9,
     "metadata": {},
     "output_type": "execute_result"
    }
   ],
   "source": [
    "# To generate more than one floating-point decimal number between -90 and 90, we can add the size parameter\n",
    "\n",
    "np.random.uniform(-90.000,90.000,size=50)"
   ]
  },
  {
   "cell_type": "code",
   "execution_count": 11,
   "id": "c2b148e5",
   "metadata": {},
   "outputs": [
    {
     "name": "stdout",
     "output_type": "stream",
     "text": [
      "9.65 µs ± 278 ns per loop (mean ± std. dev. of 7 runs, 100,000 loops each)\n"
     ]
    }
   ],
   "source": [
    "# Next, add the %timeit magic command before the np.random.uniform(-90.000, 90.000, size=1500) in a new cell. \n",
    "\n",
    "%timeit np.random.uniform(-90.000, 90.000, size=1500)"
   ]
  },
  {
   "cell_type": "code",
   "execution_count": 12,
   "id": "1c640592",
   "metadata": {},
   "outputs": [
    {
     "name": "stdout",
     "output_type": "stream",
     "text": [
      "1 ms ± 11.8 µs per loop (mean ± std. dev. of 7 runs, 1,000 loops each)\n"
     ]
    }
   ],
   "source": [
    "# Now, let's run the while loop as a function. Copy the following code in a new cell and run the cell.\n",
    "\n",
    "def latitudes(size):\n",
    "    latitudes = []\n",
    "    x = 0\n",
    "    while x < (size):\n",
    "        random_lat = random.randint(-90, 90) + random.random()\n",
    "        latitudes.append(random_lat)\n",
    "        x += 1\n",
    "    return latitudes\n",
    "\n",
    "# Call the function with 1500.\n",
    "%timeit latitudes(1500)"
   ]
  },
  {
   "cell_type": "code",
   "execution_count": null,
   "id": "9ef80528",
   "metadata": {},
   "outputs": [],
   "source": []
  }
 ],
 "metadata": {
  "kernelspec": {
   "display_name": "PythonData",
   "language": "python",
   "name": "pythondata"
  },
  "language_info": {
   "codemirror_mode": {
    "name": "ipython",
    "version": 3
   },
   "file_extension": ".py",
   "mimetype": "text/x-python",
   "name": "python",
   "nbconvert_exporter": "python",
   "pygments_lexer": "ipython3",
   "version": "3.9.12"
  }
 },
 "nbformat": 4,
 "nbformat_minor": 5
}
